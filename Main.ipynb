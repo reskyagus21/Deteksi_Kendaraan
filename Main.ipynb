{
 "cells": [
  {
   "cell_type": "code",
   "execution_count": 2,
   "metadata": {},
   "outputs": [
    {
     "name": "stdout",
     "output_type": "stream",
     "text": [
      "loading Roboflow workspace...\n",
      "loading Roboflow project...\n",
      "Downloading Dataset Version Zip in deteksi-pelanggaran-4 to yolov5pytorch: 100% [106776686 / 106776686] bytes\n"
     ]
    },
    {
     "name": "stderr",
     "output_type": "stream",
     "text": [
      "Extracting Dataset Version Zip to deteksi-pelanggaran-4 in yolov5pytorch:: 100%|██████████| 2224/2224 [00:01<00:00, 1260.66it/s]\n"
     ]
    }
   ],
   "source": [
    "from roboflow import Roboflow\n",
    "rf = Roboflow(api_key=\"ht2nPpDkIBwNpwA9hvM4\")\n",
    "project = rf.workspace(\"skripsi-v7dmc\").project(\"deteksi-pelanggaran\")\n",
    "dataset = project.version(4).download(\"yolov5\")\n"
   ]
  },
  {
   "cell_type": "code",
   "execution_count": 13,
   "metadata": {},
   "outputs": [
    {
     "name": "stderr",
     "output_type": "stream",
     "text": [
      "New https://pypi.org/project/ultralytics/8.0.175 available  Update with 'pip install -U ultralytics'\n",
      "Ultralytics YOLOv8.0.136  Python-3.11.2 torch-2.0.1+cu117 CPU (AMD Ryzen 5 5500U with Radeon Graphics)\n",
      "\u001b[34m\u001b[1mengine\\trainer: \u001b[0mtask=detect, mode=train, model=yolov8m.pt, data=d:\\Deteksi_Kendaraan\\deteksi-pelanggaran-4/data.yaml, epochs=20, patience=50, batch=32, imgsz=640, save=True, save_period=-1, cache=False, device=None, workers=8, project=None, name=None, exist_ok=False, pretrained=True, optimizer=auto, verbose=True, seed=0, deterministic=True, single_cls=False, rect=False, cos_lr=False, close_mosaic=10, resume=False, amp=True, fraction=1.0, profile=False, overlap_mask=True, mask_ratio=4, dropout=0.0, val=True, split=val, save_json=False, save_hybrid=False, conf=None, iou=0.5, max_det=300, half=False, dnn=False, plots=True, source=None, show=False, save_txt=False, save_conf=False, save_crop=False, show_labels=True, show_conf=True, vid_stride=1, line_width=None, visualize=False, augment=False, agnostic_nms=False, classes=None, retina_masks=False, boxes=True, format=torchscript, keras=False, optimize=False, int8=False, dynamic=False, simplify=False, opset=None, workspace=4, nms=False, lr0=0.01, lrf=0.01, momentum=0.937, weight_decay=0.0005, warmup_epochs=3.0, warmup_momentum=0.8, warmup_bias_lr=0.1, box=7.5, cls=0.5, dfl=1.5, pose=12.0, kobj=1.0, label_smoothing=0.0, nbs=64, hsv_h=0.015, hsv_s=0.7, hsv_v=0.4, degrees=0.0, translate=0.1, scale=0.5, shear=0.0, perspective=0.0, flipud=0.0, fliplr=0.5, mosaic=1.0, mixup=0.0, copy_paste=0.0, cfg=None, tracker=botsort.yaml, save_dir=runs\\detect\\train9\n",
      "Traceback (most recent call last):\n",
      "  File \"C:\\Users\\RA_HMRHR\\AppData\\Roaming\\Python\\Python311\\site-packages\\ultralytics\\engine\\trainer.py\", line 123, in __init__\n",
      "    self.data = check_det_dataset(self.args.data)\n",
      "                ^^^^^^^^^^^^^^^^^^^^^^^^^^^^^^^^^\n",
      "  File \"C:\\Users\\RA_HMRHR\\AppData\\Roaming\\Python\\Python311\\site-packages\\ultralytics\\data\\utils.py\", line 196, in check_det_dataset\n",
      "    data = check_file(dataset)\n",
      "           ^^^^^^^^^^^^^^^^^^^\n",
      "  File \"C:\\Users\\RA_HMRHR\\AppData\\Roaming\\Python\\Python311\\site-packages\\ultralytics\\utils\\checks.py\", line 330, in check_file\n",
      "    raise FileNotFoundError(f\"'{file}' does not exist\")\n",
      "FileNotFoundError: 'd:\\Deteksi_Kendaraan\\deteksi-pelanggaran-4/data.yaml' does not exist\n",
      "\n",
      "The above exception was the direct cause of the following exception:\n",
      "\n",
      "Traceback (most recent call last):\n",
      "  File \"<frozen runpy>\", line 198, in _run_module_as_main\n",
      "  File \"<frozen runpy>\", line 88, in _run_code\n",
      "  File \"c:\\Users\\RA_HMRHR\\AppData\\Roaming\\Python\\Python311\\Scripts\\yolo.exe\\__main__.py\", line 7, in <module>\n",
      "  File \"C:\\Users\\RA_HMRHR\\AppData\\Roaming\\Python\\Python311\\site-packages\\ultralytics\\cfg\\__init__.py\", line 407, in entrypoint\n",
      "    getattr(model, mode)(**overrides)  # default args from model\n",
      "    ^^^^^^^^^^^^^^^^^^^^^^^^^^^^^^^^^\n",
      "  File \"C:\\Users\\RA_HMRHR\\AppData\\Roaming\\Python\\Python311\\site-packages\\ultralytics\\engine\\model.py\", line 367, in train\n",
      "    self.trainer = TASK_MAP[self.task][1](overrides=overrides, _callbacks=self.callbacks)\n",
      "                   ^^^^^^^^^^^^^^^^^^^^^^^^^^^^^^^^^^^^^^^^^^^^^^^^^^^^^^^^^^^^^^^^^^^^^^\n",
      "  File \"C:\\Users\\RA_HMRHR\\AppData\\Roaming\\Python\\Python311\\site-packages\\ultralytics\\engine\\trainer.py\", line 127, in __init__\n",
      "    raise RuntimeError(emojis(f\"Dataset '{clean_url(self.args.data)}' error ❌ {e}\")) from e\n",
      "RuntimeError: Dataset 'd:\\Deteksi_Kendaraan\\deteksi-pelanggaran-4\\data.yaml' error  'd:\\Deteksi_Kendaraan\\deteksi-pelanggaran-4/data.yaml' does not exist\n"
     ]
    }
   ],
   "source": [
    "from ultralytics import YOLO\n",
    "model=YOLO('yolov8m.pt')\n",
    "results = model.train(data="/workspaces/Deteksi_kendaraan/deteksi-pelanggaran-4/data.yaml", epochs=20, pretrained=True, iou=0.5, visualize=True, patience=0, batch=24, imgsz=640)\n"
   ]
  },
  {
   "cell_type": "code",
   "execution_count": 4,
   "metadata": {},
   "outputs": [
    {
     "ename": "AttributeError",
     "evalue": "'NoneType' object has no attribute 'shape'",
     "output_type": "error",
     "traceback": [
      "\u001b[1;31m---------------------------------------------------------------------------\u001b[0m",
      "\u001b[1;31mAttributeError\u001b[0m                            Traceback (most recent call last)",
      "Cell \u001b[1;32mIn[4], line 11\u001b[0m\n\u001b[0;32m      9\u001b[0m cap \u001b[39m=\u001b[39m cv2\u001b[39m.\u001b[39mVideoCapture(video_path)\n\u001b[0;32m     10\u001b[0m ret, frame \u001b[39m=\u001b[39m cap\u001b[39m.\u001b[39mread()\n\u001b[1;32m---> 11\u001b[0m H, W, _ \u001b[39m=\u001b[39m frame\u001b[39m.\u001b[39;49mshape\n\u001b[0;32m     12\u001b[0m out \u001b[39m=\u001b[39m cv2\u001b[39m.\u001b[39mVideoWriter(video_path_out, cv2\u001b[39m.\u001b[39mVideoWriter_fourcc(\u001b[39m*\u001b[39m\u001b[39m'\u001b[39m\u001b[39mMP4V\u001b[39m\u001b[39m'\u001b[39m), \u001b[39mint\u001b[39m(cap\u001b[39m.\u001b[39mget(cv2\u001b[39m.\u001b[39mCAP_PROP_FPS)), (W, H))\n\u001b[0;32m     13\u001b[0m model_path \u001b[39m=\u001b[39m os\u001b[39m.\u001b[39mpath\u001b[39m.\u001b[39mjoin(\u001b[39m'\u001b[39m\u001b[39m.\u001b[39m\u001b[39m'\u001b[39m, \u001b[39m'\u001b[39m\u001b[39mruns\u001b[39m\u001b[39m'\u001b[39m, \u001b[39m'\u001b[39m\u001b[39mdetect\u001b[39m\u001b[39m'\u001b[39m, \u001b[39m'\u001b[39m\u001b[39mtrain4\u001b[39m\u001b[39m'\u001b[39m, \u001b[39m'\u001b[39m\u001b[39mweights\u001b[39m\u001b[39m'\u001b[39m, \u001b[39m'\u001b[39m\u001b[39mbest.pt\u001b[39m\u001b[39m'\u001b[39m)\n",
      "\u001b[1;31mAttributeError\u001b[0m: 'NoneType' object has no attribute 'shape'"
     ]
    }
   ],
   "source": [
    "import os\n",
    "import numpy as np\n",
    "from ultralytics import YOLO\n",
    "import cv2\n",
    "\n",
    "VIDEOS_DIR = os.path.join('.', 'videos')\n",
    "video_path = os.path.join(VIDEOS_DIR, '1.mp4')\n",
    "video_path_out = '{}_out.mp4'.format(video_path)\n",
    "cap = cv2.VideoCapture(video_path)\n",
    "ret, frame = cap.read()\n",
    "H, W, _ = frame.shape\n",
    "out = cv2.VideoWriter(video_path_out, cv2.VideoWriter_fourcc(*'MP4V'), int(cap.get(cv2.CAP_PROP_FPS)), (W, H))\n",
    "model_path = os.path.join('.', 'runs', 'detect', 'train', 'weights', 'best.pt')\n",
    "colors=[0,1]\n",
    "colors[0] = (255, 60 , 255)\n",
    "colors[1] = (100, 255 , 100) \n",
    "# Load a model\n",
    "area = (100,350),(450,450),(633,755),(636,1150)\n",
    "model = YOLO(model_path)  # load a custom model\n",
    "\n",
    "while ret:\n",
    "    results = model(frame)[0]\n",
    "    for result in results.boxes.data.tolist():\n",
    "        x1, y1, x2, y2,confidence,class_id = result\n",
    "        result=cv2.pointPolygonTest(np.array(area,np.int32),((int(x1+x2/2),int(y1+y2/2))),False)\n",
    "        color = colors[int(class_id)]\n",
    "        text = f\"{results.names[int(class_id)]} : {confidence:.2f}\"\n",
    "        if result >= 0 :    \n",
    "            cv2.rectangle(frame, (int(x1), int(y1)), (int(x2), int(y2)),color,3)\n",
    "            cv2.putText(frame, text, (int(x1), int(y1 - 15)),\n",
    "            cv2.FONT_HERSHEY_COMPLEX_SMALL, 1, color, 2, cv2.LINE_AA)\n",
    "    cv2.polylines(frame,[np.array(area,np.int32)],True,(255,255,0),3)\n",
    "    out.write(frame)\n",
    "    ret, frame = cap.read()\n",
    "\n",
    "cap.release()\n",
    "out.release()\n",
    "cv2.destroyAllWindows()"
   ]
  }
 ],
 "metadata": {
  "kernelspec": {
   "display_name": "Python 3",
   "language": "python",
   "name": "python3"
  },
  "language_info": {
   "codemirror_mode": {
    "name": "ipython",
    "version": 3
   },
   "file_extension": ".py",
   "mimetype": "text/x-python",
   "name": "python",
   "nbconvert_exporter": "python",
   "pygments_lexer": "ipython3",
   "version": "3.11.2"
  },
  "orig_nbformat": 4
 },
 "nbformat": 4,
 "nbformat_minor": 2
}
